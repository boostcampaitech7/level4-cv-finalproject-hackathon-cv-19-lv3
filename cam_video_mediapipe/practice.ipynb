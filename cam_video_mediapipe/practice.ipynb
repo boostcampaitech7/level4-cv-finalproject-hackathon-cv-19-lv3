{
 "cells": [
  {
   "cell_type": "code",
   "execution_count": 19,
   "metadata": {},
   "outputs": [],
   "source": [
    "import cv2\n",
    "import mediapipe as mp\n",
    "import numpy as np\n",
    "import pandas as pd\n",
    "from fastdtw import fastdtw \n",
    "from scipy.spatial.distance import euclidean, cosine\n",
    "import os"
   ]
  },
  {
   "cell_type": "code",
   "execution_count": null,
   "metadata": {},
   "outputs": [],
   "source": [
    "# MediaPipe Pose 초기화\n",
    "mp_pose = mp.solutions.pose\n",
    "pose = mp_pose.Pose()"
   ]
  },
  {
   "cell_type": "code",
   "execution_count": null,
   "metadata": {},
   "outputs": [],
   "source": [
    "import cv2\n",
    "import mediapipe as mp\n",
    "import pandas as pd\n",
    "\n",
    "# Mediapipe Pose 초기화\n",
    "mp_pose = mp.solutions.pose\n",
    "pose = mp_pose.Pose()\n",
    "\n",
    "def extract_keypoints_to_dataframe(video_path):\n",
    "    # OpenCV로 비디오 읽기\n",
    "    cap = cv2.VideoCapture(video_path)\n",
    "    keypoints_list = []\n",
    "\n",
    "    frame_index = 0\n",
    "    while cap.isOpened():\n",
    "        ret, frame = cap.read()\n",
    "        if not ret:\n",
    "            break\n",
    "\n",
    "        # 프레임 RGB 변환 (Mediapipe는 RGB 입력 필요)\n",
    "        frame_rgb = cv2.cvtColor(frame, cv2.COLOR_BGR2RGB)\n",
    "\n",
    "        # Mediapipe Pose 추론\n",
    "        result = pose.process(frame_rgb)\n",
    "\n",
    "        if result.pose_landmarks:\n",
    "            # 키포인트 저장용 딕셔너리\n",
    "            keypoints = {\"frame_index\": frame_index}\n",
    "\n",
    "            # 각 키포인트의 x, y, z, visibility 저장\n",
    "            for i, landmark in enumerate(result.pose_landmarks.landmark):\n",
    "                keypoints[f\"x_{i}\"] = landmark.x\n",
    "                keypoints[f\"y_{i}\"] = landmark.y\n",
    "                keypoints[f\"z_{i}\"] = landmark.z\n",
    "                keypoints[f\"visibility_{i}\"] = landmark.visibility\n",
    "\n",
    "            keypoints_list.append(keypoints)\n",
    "        \n",
    "        frame_index += 1\n",
    "\n",
    "    cap.release()\n",
    "\n",
    "    # Pandas DataFrame으로 변환\n",
    "    df = pd.DataFrame(keypoints_list)\n",
    "    return df\n"
   ]
  },
  {
   "cell_type": "code",
   "execution_count": null,
   "metadata": {},
   "outputs": [],
   "source": [
    "# 비디오 경로\n",
    "video_path = \"video_chal.mp4\"\n",
    "\n",
    "# 데이터프레임으로 변환\n",
    "df_keypoints = extract_keypoints_to_dataframe(video_path)\n",
    "\n",
    "# 데이터프레임 저장\n",
    "df_keypoints.to_csv(\"keypoints.csv\", index=False)\n",
    "print(\"Keypoints DataFrame 저장 완료!\")"
   ]
  },
  {
   "cell_type": "code",
   "execution_count": null,
   "metadata": {},
   "outputs": [],
   "source": []
  }
 ],
 "metadata": {
  "kernelspec": {
   "display_name": ".venv",
   "language": "python",
   "name": "python3"
  },
  "language_info": {
   "codemirror_mode": {
    "name": "ipython",
    "version": 3
   },
   "file_extension": ".py",
   "mimetype": "text/x-python",
   "name": "python",
   "nbconvert_exporter": "python",
   "pygments_lexer": "ipython3",
   "version": "3.10.16"
  }
 },
 "nbformat": 4,
 "nbformat_minor": 2
}
